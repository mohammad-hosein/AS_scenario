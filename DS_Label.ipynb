{
  "nbformat": 4,
  "nbformat_minor": 0,
  "metadata": {
    "colab": {
      "name": "DS_Label.ipynb",
      "provenance": [],
      "collapsed_sections": [],
      "authorship_tag": "ABX9TyMivD0W4EUeTM1IEQWsXaxE",
      "include_colab_link": true
    },
    "kernelspec": {
      "name": "python3",
      "display_name": "Python 3"
    },
    "language_info": {
      "name": "python"
    }
  },
  "cells": [
    {
      "cell_type": "markdown",
      "metadata": {
        "id": "view-in-github",
        "colab_type": "text"
      },
      "source": [
        "<a href=\"https://colab.research.google.com/github/mohammad-hosein/AS_scenario/blob/main/DS_Label.ipynb\" target=\"_parent\"><img src=\"https://colab.research.google.com/assets/colab-badge.svg\" alt=\"Open In Colab\"/></a>"
      ]
    },
    {
      "cell_type": "code",
      "execution_count": null,
      "metadata": {
        "id": "iAaFoyKi5pnt"
      },
      "outputs": [],
      "source": [
        "import pandas as pd\n",
        "import numpy as np\n"
      ]
    },
    {
      "cell_type": "code",
      "source": [
        "from google.colab import drive\n",
        "drive.mount('/content/drive')"
      ],
      "metadata": {
        "colab": {
          "base_uri": "https://localhost:8080/"
        },
        "id": "PvtSNUBn50wR",
        "outputId": "8c99079c-f060-47cf-8c49-360686263452"
      },
      "execution_count": null,
      "outputs": [
        {
          "output_type": "stream",
          "name": "stdout",
          "text": [
            "Mounted at /content/drive\n"
          ]
        }
      ]
    },
    {
      "cell_type": "code",
      "source": [
        "BS6_3848_3852 = pd.read_csv('/content/drive/MyDrive/BS6_3842_scaled_features.csv')\n",
        "BS6_3853_3855 = pd.read_csv('/content/drive/MyDrive/BS6_3853_scaled_features.csv')\n",
        "BS6_1650_1655 = pd.read_csv('/content/drive/MyDrive/BS6_1650_scaled_features.csv')\n",
        "BS6_1100_1110 = pd.read_csv('/content/drive/MyDrive/BS6_1100_scaled_features.csv')\n"
      ],
      "metadata": {
        "id": "WhAonYRt6CW7"
      },
      "execution_count": null,
      "outputs": []
    },
    {
      "cell_type": "code",
      "source": [
        "BS6_3848_3852['antenna_subset'] = int(0)\n",
        "BS6_3853_3855['antenna_subset'] = int(1)\n",
        "BS6_1650_1655['antenna_subset'] = int(2)\n",
        "BS6_1100_1110['antenna_subset'] = int(3)\n"
      ],
      "metadata": {
        "id": "WTAe2m0K6sCK"
      },
      "execution_count": null,
      "outputs": []
    },
    {
      "cell_type": "code",
      "source": [
        "BS6_1650_1655.head()"
      ],
      "metadata": {
        "id": "FdUf7V8M7X9o",
        "colab": {
          "base_uri": "https://localhost:8080/",
          "height": 317
        },
        "outputId": "f28d3e2b-5bd0-4721-d59e-427b65d84e10"
      },
      "execution_count": null,
      "outputs": [
        {
          "output_type": "execute_result",
          "data": {
            "text/plain": [
              "   Unnamed: 0         0         1         2         3         4         5  \\\n",
              "0           0 -0.773543 -0.603217 -0.293065  0.085564  0.156093 -0.225817   \n",
              "1           1  0.252708  0.574069  0.768381  0.786646 -0.796025 -0.750336   \n",
              "2           2  0.733994  0.495050  0.146128 -0.235180 -0.008441  0.363200   \n",
              "3           3 -0.427272 -0.698849 -0.812361 -0.739902  0.806455  0.672988   \n",
              "4           4 -0.619299 -0.310258  0.070781  0.436356 -0.205248 -0.546421   \n",
              "\n",
              "          6         7         8  ...      2039      2040      2041      2042  \\\n",
              "0 -0.552540 -0.756673  0.646236  ... -0.648051  0.688117  0.596341  0.368971   \n",
              "1 -0.529968 -0.191979  0.417783  ... -0.149485  0.342058  0.029447 -0.287116   \n",
              "2  0.656315  0.800854 -0.727669  ...  0.483473 -0.320609 -0.560369 -0.668765   \n",
              "3  0.391345  0.020198 -0.265560  ...  0.638135 -0.664010 -0.602748 -0.401407   \n",
              "4 -0.761389 -0.809836  0.799551  ...  0.153536 -0.340453 -0.048942  0.255906   \n",
              "\n",
              "       2043      2044      2045      2046      2047  antenna_subset  \n",
              "0  0.059176 -0.261361  0.065844  0.373942  0.598180               2  \n",
              "1 -0.538463  0.387185  0.603379  0.680159  0.601528               2  \n",
              "2 -0.627793  0.668270  0.578506  0.354153  0.049197               2  \n",
              "3 -0.111602  0.303749  0.002765 -0.306056 -0.543815               2  \n",
              "4  0.503525 -0.352067 -0.560072 -0.651997 -0.593354               2  \n",
              "\n",
              "[5 rows x 2050 columns]"
            ],
            "text/html": [
              "\n",
              "  <div id=\"df-88dc61f1-b2b9-4962-981a-aadf06b1852f\">\n",
              "    <div class=\"colab-df-container\">\n",
              "      <div>\n",
              "<style scoped>\n",
              "    .dataframe tbody tr th:only-of-type {\n",
              "        vertical-align: middle;\n",
              "    }\n",
              "\n",
              "    .dataframe tbody tr th {\n",
              "        vertical-align: top;\n",
              "    }\n",
              "\n",
              "    .dataframe thead th {\n",
              "        text-align: right;\n",
              "    }\n",
              "</style>\n",
              "<table border=\"1\" class=\"dataframe\">\n",
              "  <thead>\n",
              "    <tr style=\"text-align: right;\">\n",
              "      <th></th>\n",
              "      <th>Unnamed: 0</th>\n",
              "      <th>0</th>\n",
              "      <th>1</th>\n",
              "      <th>2</th>\n",
              "      <th>3</th>\n",
              "      <th>4</th>\n",
              "      <th>5</th>\n",
              "      <th>6</th>\n",
              "      <th>7</th>\n",
              "      <th>8</th>\n",
              "      <th>...</th>\n",
              "      <th>2039</th>\n",
              "      <th>2040</th>\n",
              "      <th>2041</th>\n",
              "      <th>2042</th>\n",
              "      <th>2043</th>\n",
              "      <th>2044</th>\n",
              "      <th>2045</th>\n",
              "      <th>2046</th>\n",
              "      <th>2047</th>\n",
              "      <th>antenna_subset</th>\n",
              "    </tr>\n",
              "  </thead>\n",
              "  <tbody>\n",
              "    <tr>\n",
              "      <th>0</th>\n",
              "      <td>0</td>\n",
              "      <td>-0.773543</td>\n",
              "      <td>-0.603217</td>\n",
              "      <td>-0.293065</td>\n",
              "      <td>0.085564</td>\n",
              "      <td>0.156093</td>\n",
              "      <td>-0.225817</td>\n",
              "      <td>-0.552540</td>\n",
              "      <td>-0.756673</td>\n",
              "      <td>0.646236</td>\n",
              "      <td>...</td>\n",
              "      <td>-0.648051</td>\n",
              "      <td>0.688117</td>\n",
              "      <td>0.596341</td>\n",
              "      <td>0.368971</td>\n",
              "      <td>0.059176</td>\n",
              "      <td>-0.261361</td>\n",
              "      <td>0.065844</td>\n",
              "      <td>0.373942</td>\n",
              "      <td>0.598180</td>\n",
              "      <td>2</td>\n",
              "    </tr>\n",
              "    <tr>\n",
              "      <th>1</th>\n",
              "      <td>1</td>\n",
              "      <td>0.252708</td>\n",
              "      <td>0.574069</td>\n",
              "      <td>0.768381</td>\n",
              "      <td>0.786646</td>\n",
              "      <td>-0.796025</td>\n",
              "      <td>-0.750336</td>\n",
              "      <td>-0.529968</td>\n",
              "      <td>-0.191979</td>\n",
              "      <td>0.417783</td>\n",
              "      <td>...</td>\n",
              "      <td>-0.149485</td>\n",
              "      <td>0.342058</td>\n",
              "      <td>0.029447</td>\n",
              "      <td>-0.287116</td>\n",
              "      <td>-0.538463</td>\n",
              "      <td>0.387185</td>\n",
              "      <td>0.603379</td>\n",
              "      <td>0.680159</td>\n",
              "      <td>0.601528</td>\n",
              "      <td>2</td>\n",
              "    </tr>\n",
              "    <tr>\n",
              "      <th>2</th>\n",
              "      <td>2</td>\n",
              "      <td>0.733994</td>\n",
              "      <td>0.495050</td>\n",
              "      <td>0.146128</td>\n",
              "      <td>-0.235180</td>\n",
              "      <td>-0.008441</td>\n",
              "      <td>0.363200</td>\n",
              "      <td>0.656315</td>\n",
              "      <td>0.800854</td>\n",
              "      <td>-0.727669</td>\n",
              "      <td>...</td>\n",
              "      <td>0.483473</td>\n",
              "      <td>-0.320609</td>\n",
              "      <td>-0.560369</td>\n",
              "      <td>-0.668765</td>\n",
              "      <td>-0.627793</td>\n",
              "      <td>0.668270</td>\n",
              "      <td>0.578506</td>\n",
              "      <td>0.354153</td>\n",
              "      <td>0.049197</td>\n",
              "      <td>2</td>\n",
              "    </tr>\n",
              "    <tr>\n",
              "      <th>3</th>\n",
              "      <td>3</td>\n",
              "      <td>-0.427272</td>\n",
              "      <td>-0.698849</td>\n",
              "      <td>-0.812361</td>\n",
              "      <td>-0.739902</td>\n",
              "      <td>0.806455</td>\n",
              "      <td>0.672988</td>\n",
              "      <td>0.391345</td>\n",
              "      <td>0.020198</td>\n",
              "      <td>-0.265560</td>\n",
              "      <td>...</td>\n",
              "      <td>0.638135</td>\n",
              "      <td>-0.664010</td>\n",
              "      <td>-0.602748</td>\n",
              "      <td>-0.401407</td>\n",
              "      <td>-0.111602</td>\n",
              "      <td>0.303749</td>\n",
              "      <td>0.002765</td>\n",
              "      <td>-0.306056</td>\n",
              "      <td>-0.543815</td>\n",
              "      <td>2</td>\n",
              "    </tr>\n",
              "    <tr>\n",
              "      <th>4</th>\n",
              "      <td>4</td>\n",
              "      <td>-0.619299</td>\n",
              "      <td>-0.310258</td>\n",
              "      <td>0.070781</td>\n",
              "      <td>0.436356</td>\n",
              "      <td>-0.205248</td>\n",
              "      <td>-0.546421</td>\n",
              "      <td>-0.761389</td>\n",
              "      <td>-0.809836</td>\n",
              "      <td>0.799551</td>\n",
              "      <td>...</td>\n",
              "      <td>0.153536</td>\n",
              "      <td>-0.340453</td>\n",
              "      <td>-0.048942</td>\n",
              "      <td>0.255906</td>\n",
              "      <td>0.503525</td>\n",
              "      <td>-0.352067</td>\n",
              "      <td>-0.560072</td>\n",
              "      <td>-0.651997</td>\n",
              "      <td>-0.593354</td>\n",
              "      <td>2</td>\n",
              "    </tr>\n",
              "  </tbody>\n",
              "</table>\n",
              "<p>5 rows × 2050 columns</p>\n",
              "</div>\n",
              "      <button class=\"colab-df-convert\" onclick=\"convertToInteractive('df-88dc61f1-b2b9-4962-981a-aadf06b1852f')\"\n",
              "              title=\"Convert this dataframe to an interactive table.\"\n",
              "              style=\"display:none;\">\n",
              "        \n",
              "  <svg xmlns=\"http://www.w3.org/2000/svg\" height=\"24px\"viewBox=\"0 0 24 24\"\n",
              "       width=\"24px\">\n",
              "    <path d=\"M0 0h24v24H0V0z\" fill=\"none\"/>\n",
              "    <path d=\"M18.56 5.44l.94 2.06.94-2.06 2.06-.94-2.06-.94-.94-2.06-.94 2.06-2.06.94zm-11 1L8.5 8.5l.94-2.06 2.06-.94-2.06-.94L8.5 2.5l-.94 2.06-2.06.94zm10 10l.94 2.06.94-2.06 2.06-.94-2.06-.94-.94-2.06-.94 2.06-2.06.94z\"/><path d=\"M17.41 7.96l-1.37-1.37c-.4-.4-.92-.59-1.43-.59-.52 0-1.04.2-1.43.59L10.3 9.45l-7.72 7.72c-.78.78-.78 2.05 0 2.83L4 21.41c.39.39.9.59 1.41.59.51 0 1.02-.2 1.41-.59l7.78-7.78 2.81-2.81c.8-.78.8-2.07 0-2.86zM5.41 20L4 18.59l7.72-7.72 1.47 1.35L5.41 20z\"/>\n",
              "  </svg>\n",
              "      </button>\n",
              "      \n",
              "  <style>\n",
              "    .colab-df-container {\n",
              "      display:flex;\n",
              "      flex-wrap:wrap;\n",
              "      gap: 12px;\n",
              "    }\n",
              "\n",
              "    .colab-df-convert {\n",
              "      background-color: #E8F0FE;\n",
              "      border: none;\n",
              "      border-radius: 50%;\n",
              "      cursor: pointer;\n",
              "      display: none;\n",
              "      fill: #1967D2;\n",
              "      height: 32px;\n",
              "      padding: 0 0 0 0;\n",
              "      width: 32px;\n",
              "    }\n",
              "\n",
              "    .colab-df-convert:hover {\n",
              "      background-color: #E2EBFA;\n",
              "      box-shadow: 0px 1px 2px rgba(60, 64, 67, 0.3), 0px 1px 3px 1px rgba(60, 64, 67, 0.15);\n",
              "      fill: #174EA6;\n",
              "    }\n",
              "\n",
              "    [theme=dark] .colab-df-convert {\n",
              "      background-color: #3B4455;\n",
              "      fill: #D2E3FC;\n",
              "    }\n",
              "\n",
              "    [theme=dark] .colab-df-convert:hover {\n",
              "      background-color: #434B5C;\n",
              "      box-shadow: 0px 1px 3px 1px rgba(0, 0, 0, 0.15);\n",
              "      filter: drop-shadow(0px 1px 2px rgba(0, 0, 0, 0.3));\n",
              "      fill: #FFFFFF;\n",
              "    }\n",
              "  </style>\n",
              "\n",
              "      <script>\n",
              "        const buttonEl =\n",
              "          document.querySelector('#df-88dc61f1-b2b9-4962-981a-aadf06b1852f button.colab-df-convert');\n",
              "        buttonEl.style.display =\n",
              "          google.colab.kernel.accessAllowed ? 'block' : 'none';\n",
              "\n",
              "        async function convertToInteractive(key) {\n",
              "          const element = document.querySelector('#df-88dc61f1-b2b9-4962-981a-aadf06b1852f');\n",
              "          const dataTable =\n",
              "            await google.colab.kernel.invokeFunction('convertToInteractive',\n",
              "                                                     [key], {});\n",
              "          if (!dataTable) return;\n",
              "\n",
              "          const docLinkHtml = 'Like what you see? Visit the ' +\n",
              "            '<a target=\"_blank\" href=https://colab.research.google.com/notebooks/data_table.ipynb>data table notebook</a>'\n",
              "            + ' to learn more about interactive tables.';\n",
              "          element.innerHTML = '';\n",
              "          dataTable['output_type'] = 'display_data';\n",
              "          await google.colab.output.renderOutput(dataTable, element);\n",
              "          const docLink = document.createElement('div');\n",
              "          docLink.innerHTML = docLinkHtml;\n",
              "          element.appendChild(docLink);\n",
              "        }\n",
              "      </script>\n",
              "    </div>\n",
              "  </div>\n",
              "  "
            ]
          },
          "metadata": {},
          "execution_count": 5
        }
      ]
    },
    {
      "cell_type": "code",
      "source": [
        "# BS2_R1650_1750 = BS2_R1650_1750.drop(['Unnamed: 0'], axis=1)\n",
        "# BS2_R2200_2300 = BS2_R2200_2300.drop(['Unnamed: 0'], axis=1)\n",
        "# BS2_R550_R660 = BS2_R550_R660.drop(['Unnamed: 0'], axis=1)"
      ],
      "metadata": {
        "id": "4iIfUFLu8K0s"
      },
      "execution_count": null,
      "outputs": []
    },
    {
      "cell_type": "code",
      "source": [
        "LOW = pd.DataFrame()"
      ],
      "metadata": {
        "id": "nJwrL-qmRNFP"
      },
      "execution_count": null,
      "outputs": []
    },
    {
      "cell_type": "code",
      "source": [
        "LOW = LOW.append(BS6_3848_3852)"
      ],
      "metadata": {
        "id": "rWQBV8TBRpmq"
      },
      "execution_count": null,
      "outputs": []
    },
    {
      "cell_type": "code",
      "source": [
        "LOW.to_csv('/content/drive/MyDrive/LOW.csv')"
      ],
      "metadata": {
        "id": "hjBr7iVmSEq9"
      },
      "execution_count": null,
      "outputs": []
    }
  ]
}