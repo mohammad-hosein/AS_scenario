{
  "nbformat": 4,
  "nbformat_minor": 0,
  "metadata": {
    "colab": {
      "name": "ASdataset.ipynb",
      "provenance": [],
      "collapsed_sections": []
    },
    "kernelspec": {
      "name": "python3",
      "display_name": "Python 3"
    },
    "language_info": {
      "name": "python"
    }
  },
  "cells": [
    {
      "cell_type": "code",
      "execution_count": null,
      "metadata": {
        "id": "PwWdyhhwXLxX",
        "outputId": "3aa83f8f-336b-4c4a-e385-d7de8e63ca77",
        "colab": {
          "base_uri": "https://localhost:8080/"
        }
      },
      "outputs": [
        {
          "output_type": "stream",
          "name": "stdout",
          "text": [
            "Looking in indexes: https://pypi.org/simple, https://us-python.pkg.dev/colab-wheels/public/simple/\n",
            "Requirement already satisfied: DeepMIMO in /usr/local/lib/python3.7/dist-packages (0.97)\n",
            "Requirement already satisfied: numpy in /usr/local/lib/python3.7/dist-packages (from DeepMIMO) (1.21.6)\n",
            "Requirement already satisfied: tqdm in /usr/local/lib/python3.7/dist-packages (from DeepMIMO) (4.64.0)\n",
            "Requirement already satisfied: scipy in /usr/local/lib/python3.7/dist-packages (from DeepMIMO) (1.4.1)\n"
          ]
        }
      ],
      "source": [
        "pip install DeepMIMO"
      ]
    },
    {
      "cell_type": "code",
      "source": [
        ""
      ],
      "metadata": {
        "id": "OiddooO2SkSw"
      },
      "execution_count": null,
      "outputs": []
    },
    {
      "cell_type": "code",
      "source": [
        "from google.colab import drive\n",
        "drive.mount('/content/drive/', force_remount=True)\n"
      ],
      "metadata": {
        "colab": {
          "base_uri": "https://localhost:8080/"
        },
        "id": "fsE7n93L1z6Q",
        "outputId": "9fd04a8f-17a9-484f-98e6-78d35777f3ce"
      },
      "execution_count": null,
      "outputs": [
        {
          "output_type": "stream",
          "name": "stdout",
          "text": [
            "Mounted at /content/drive/\n"
          ]
        }
      ]
    },
    {
      "cell_type": "code",
      "source": [
        "import numpy as np"
      ],
      "metadata": {
        "id": "vDhCfBHcm-rP"
      },
      "execution_count": null,
      "outputs": []
    },
    {
      "cell_type": "code",
      "source": [
        "import DeepMIMO\n",
        "import numpy as np\n",
        "from pprint import pprint\n",
        "import matplotlib.pyplot as plt\n",
        "\n"
      ],
      "metadata": {
        "id": "YxkpGTuYnObc"
      },
      "execution_count": null,
      "outputs": []
    },
    {
      "cell_type": "code",
      "source": [
        "parameters = DeepMIMO.default_params()\n",
        "pprint(parameters)"
      ],
      "metadata": {
        "colab": {
          "base_uri": "https://localhost:8080/"
        },
        "id": "kfCTPJL9TNIb",
        "outputId": "54be7b83-c0cc-4665-86f9-68e35192e0e8"
      },
      "execution_count": null,
      "outputs": [
        {
          "output_type": "stream",
          "name": "stdout",
          "text": [
            "{'OFDM': {'RX_filter': 0,\n",
            "          'bandwidth': 0.05,\n",
            "          'subcarriers': 512,\n",
            "          'subcarriers_limit': 64,\n",
            "          'subcarriers_sampling': 1},\n",
            " 'OFDM_channels': 1,\n",
            " 'active_BS': array([1]),\n",
            " 'bs_antenna': {'radiation_pattern': 'isotropic',\n",
            "                'shape': array([1, 8, 4]),\n",
            "                'spacing': 0.5},\n",
            " 'dataset_folder': './Raytracing_scenarios',\n",
            " 'dynamic_settings': {'first_scene': 1, 'last_scene': 1},\n",
            " 'enable_BS2BS': 1,\n",
            " 'num_paths': 5,\n",
            " 'row_subsampling': 1,\n",
            " 'scenario': 'O1_60',\n",
            " 'ue_antenna': {'radiation_pattern': 'isotropic',\n",
            "                'shape': array([1, 4, 2]),\n",
            "                'spacing': 0.5},\n",
            " 'user_row_first': 1,\n",
            " 'user_row_last': 1,\n",
            " 'user_subsampling': 1}\n"
          ]
        }
      ]
    },
    {
      "cell_type": "code",
      "source": [
        "# For time-domain channels, set\n",
        "parameters['activate_OFDM'] = 0"
      ],
      "metadata": {
        "id": "Kl3NbluTVC0N"
      },
      "execution_count": null,
      "outputs": []
    },
    {
      "cell_type": "code",
      "source": [
        "# Scenario O1_60 extracted at the dataset_folder\n",
        "parameters['scenario'] = 'O1_3p4'\n",
        "parameters['dataset_folder'] = r'/content/drive/MyDrive'\n",
        "\n",
        "parameters['num_paths'] = 3\n",
        "\n",
        "# User rows 1-100\n",
        "parameters['user_row_first'] = 1100\n",
        "parameters['user_row_last'] = 1110\n",
        "\n",
        "# Activate only the first basestation\n",
        "parameters['active_BS'] = np.array([6]) \n",
        "\n",
        "parameters['OFDM']['bandwidth'] = 0.05 # 50 MHz\n",
        "parameters['OFDM']['subcarriers'] = 128 # OFDM with 512 subcarriers\n",
        "parameters['OFDM']['subcarriers_limit'] = 4 # Keep only first 8 subcarriers\n",
        "\n",
        "parameters['ue_antenna']['shape'] = np.array([1, 2, 1]) # Single antenna\n",
        "parameters['bs_antenna']['shape'] = np.array([1, 128, 1]) # ULA of 32 elements"
      ],
      "metadata": {
        "id": "_JqdWnAfTVRA"
      },
      "execution_count": null,
      "outputs": []
    },
    {
      "cell_type": "code",
      "source": [
        "dataset_1650 = DeepMIMO.generate_data(parameters)\n",
        "dataset_1650[0]['user']['channel'].shape"
      ],
      "metadata": {
        "colab": {
          "base_uri": "https://localhost:8080/"
        },
        "id": "ipGJA9KyTXUC",
        "outputId": "c88e8feb-b739-4ace-d4c1-5626cbc333c6"
      },
      "execution_count": null,
      "outputs": [
        {
          "output_type": "stream",
          "name": "stdout",
          "text": [
            "\n",
            "Basestation 6\n",
            "\n",
            "UE-BS Channels\n"
          ]
        },
        {
          "output_type": "stream",
          "name": "stderr",
          "text": [
            "Reading ray-tracing: 100%|██████████| 200910/200910 [00:01<00:00, 161094.41it/s]\n",
            "Generating channels: 100%|██████████| 1991/1991 [00:00<00:00, 3717.10it/s]\n"
          ]
        },
        {
          "output_type": "stream",
          "name": "stdout",
          "text": [
            "\n",
            "BS-BS Channels\n"
          ]
        },
        {
          "output_type": "stream",
          "name": "stderr",
          "text": [
            "Reading ray-tracing: 100%|██████████| 6/6 [00:00<00:00, 14614.30it/s]\n",
            "Generating channels: 100%|██████████| 1/1 [00:00<00:00, 81.62it/s]\n"
          ]
        },
        {
          "output_type": "execute_result",
          "data": {
            "text/plain": [
              "(1991, 2, 128, 4)"
            ]
          },
          "metadata": {},
          "execution_count": 8
        }
      ]
    },
    {
      "cell_type": "markdown",
      "source": [
        "(Users, Number of each user's antenna, BS antennas, Subcarriers)"
      ],
      "metadata": {
        "id": "mw-W_9Rek4UY"
      }
    },
    {
      "cell_type": "code",
      "source": [
        "a = dataset_1650[0]['user']['channel']\n",
        "a.shape"
      ],
      "metadata": {
        "id": "_JdTLfUxkjGJ",
        "colab": {
          "base_uri": "https://localhost:8080/"
        },
        "outputId": "2828ee9c-be98-476e-97b6-1e68de1745a5"
      },
      "execution_count": null,
      "outputs": [
        {
          "output_type": "execute_result",
          "data": {
            "text/plain": [
              "(1991, 2, 128, 4)"
            ]
          },
          "metadata": {},
          "execution_count": 9
        }
      ]
    },
    {
      "cell_type": "code",
      "source": [
        "N, H, W, R = a.shape"
      ],
      "metadata": {
        "id": "mpjDqM6guvCs"
      },
      "execution_count": null,
      "outputs": []
    },
    {
      "cell_type": "code",
      "source": [
        "a = np.reshape(a, (N,H*W*R))"
      ],
      "metadata": {
        "id": "bCv74Uk02t-2"
      },
      "execution_count": null,
      "outputs": []
    },
    {
      "cell_type": "code",
      "source": [
        "a.shape"
      ],
      "metadata": {
        "colab": {
          "base_uri": "https://localhost:8080/"
        },
        "id": "x8EsnIT2lPhW",
        "outputId": "fa0cc05a-cab5-4186-ff0b-4f42520b304b"
      },
      "execution_count": null,
      "outputs": [
        {
          "output_type": "execute_result",
          "data": {
            "text/plain": [
              "(1991, 1024)"
            ]
          },
          "metadata": {},
          "execution_count": 12
        }
      ]
    },
    {
      "cell_type": "code",
      "source": [
        "b = a*1000000"
      ],
      "metadata": {
        "id": "qV0PXOGTIXfG"
      },
      "execution_count": null,
      "outputs": []
    },
    {
      "cell_type": "code",
      "source": [
        "b_real = b.real"
      ],
      "metadata": {
        "id": "TucLuuE4IkI-"
      },
      "execution_count": null,
      "outputs": []
    },
    {
      "cell_type": "code",
      "source": [
        "b_img = b.imag"
      ],
      "metadata": {
        "id": "yGF8eEnJLyFj"
      },
      "execution_count": null,
      "outputs": []
    },
    {
      "cell_type": "code",
      "source": [
        "b_real.shape"
      ],
      "metadata": {
        "colab": {
          "base_uri": "https://localhost:8080/"
        },
        "id": "3z9xBbe2QxSL",
        "outputId": "31c2b383-12a7-4c8b-8452-925e588a617f"
      },
      "execution_count": null,
      "outputs": [
        {
          "output_type": "execute_result",
          "data": {
            "text/plain": [
              "(1991, 1024)"
            ]
          },
          "metadata": {},
          "execution_count": 16
        }
      ]
    },
    {
      "cell_type": "code",
      "source": [
        "b = np.concatenate((b_real, b_img), axis = 1)"
      ],
      "metadata": {
        "id": "de9s1xVqMBIw"
      },
      "execution_count": null,
      "outputs": []
    },
    {
      "cell_type": "code",
      "source": [
        "b.shape"
      ],
      "metadata": {
        "colab": {
          "base_uri": "https://localhost:8080/"
        },
        "id": "RUX-eV_xRBib",
        "outputId": "10489246-7bc8-44a7-9e8d-80fcd7d66385"
      },
      "execution_count": null,
      "outputs": [
        {
          "output_type": "execute_result",
          "data": {
            "text/plain": [
              "(1991, 2048)"
            ]
          },
          "metadata": {},
          "execution_count": 18
        }
      ]
    },
    {
      "cell_type": "code",
      "source": [
        "import pandas as pd\n"
      ],
      "metadata": {
        "id": "abQ3Fiv9HYDS"
      },
      "execution_count": null,
      "outputs": []
    },
    {
      "cell_type": "code",
      "source": [
        "BS6_1650 = pd.DataFrame(b)"
      ],
      "metadata": {
        "id": "il-hFRL5TxEH"
      },
      "execution_count": null,
      "outputs": []
    },
    {
      "cell_type": "code",
      "source": [
        "BS6_1650"
      ],
      "metadata": {
        "colab": {
          "base_uri": "https://localhost:8080/",
          "height": 487
        },
        "id": "hWDDKcR2MMDr",
        "outputId": "b103c968-56b2-4edc-db63-9210a35eff63"
      },
      "execution_count": null,
      "outputs": [
        {
          "output_type": "execute_result",
          "data": {
            "text/plain": [
              "           0          1          2          3          4          5     \\\n",
              "0      4.984598   6.712967   5.996637   3.021013  -3.989819  -6.804139   \n",
              "1     -1.701641   6.921174  11.563729  10.354230   9.081828  -0.534325   \n",
              "2    -15.571519 -13.445913  -4.338899   7.017733  11.106980  15.448277   \n",
              "3      1.091852  -6.503527 -11.588715 -11.210070  -4.717007   1.305937   \n",
              "4      4.283194  -0.231102  -4.323882  -6.702392  -7.238913  -2.214071   \n",
              "...         ...        ...        ...        ...        ...        ...   \n",
              "1986   7.304843  -0.141466  -7.666196 -12.659387  -7.890593  -1.015714   \n",
              "1987   3.568855  -0.529471  -4.284801  -6.448101  -4.483644  -0.051496   \n",
              "1988  -4.844222   4.359343  12.061645  15.631334   6.067407  -3.108472   \n",
              "1989   0.590832  -3.749559  -6.944873  -7.846441  -1.012687   2.973452   \n",
              "1990  -0.343969  -5.108003  -8.010697  -8.130255  -0.375915   4.893285   \n",
              "\n",
              "           6          7          8          9     ...       2038       2039  \\\n",
              "0     -6.800004  -4.303416   1.564538   6.509620  ...   8.891878  12.922327   \n",
              "1     -9.345466 -13.031431 -14.521824  -7.602461  ...  -1.074893   1.845379   \n",
              "2     11.849205   2.001206  -3.458882 -12.031251  ...  -4.025341   4.177705   \n",
              "3      7.482914  10.717397   5.902429   1.924329  ...  -9.989213 -10.101300   \n",
              "4      3.102516   6.619846  10.589575   6.369769  ...  -6.031956  -4.866324   \n",
              "...         ...        ...        ...        ...  ...        ...        ...   \n",
              "1986   6.343467  11.638786   8.302423   2.053478  ...   4.033905   7.882780   \n",
              "1987   4.239501   6.948605   5.459022   0.755353  ...   5.180394   8.260356   \n",
              "1988 -11.219570 -15.491996  -7.231373   1.829609  ... -17.935527 -17.634364   \n",
              "1989   6.088486   7.215169   1.311102  -2.279992  ...  10.687968   6.593103   \n",
              "1990   8.371633   8.934606   1.196057  -4.548245  ...   7.483674   5.584667   \n",
              "\n",
              "           2040       2041       2042       2043      2044      2045  \\\n",
              "0     11.177475   6.497373  -1.923966  -9.699038 -9.703032 -9.859069   \n",
              "1      4.435579   3.280266   1.283910  -1.005672 -5.723236 -4.719713   \n",
              "2      8.456237  12.664760  10.204368   2.580993 -1.401413 -9.826475   \n",
              "3     -5.181172  -0.166993   5.686601   9.303350  5.480586  3.046245   \n",
              "4     -3.546931   2.537196   6.676125   7.251146  8.637443  2.280012   \n",
              "...         ...        ...        ...        ...       ...       ...   \n",
              "1986   5.542016   1.707991  -2.906991  -6.695507 -5.332912 -2.196741   \n",
              "1987   5.806404   0.267060  -5.199099  -8.781297 -6.731890 -0.894869   \n",
              "1988   0.747162  11.034649  17.558350  18.097981  0.682274 -9.852503   \n",
              "1989  -6.909194 -10.293526 -10.257620  -6.722782  6.031628  9.443809   \n",
              "1990  -4.128642  -7.470440  -8.253206  -6.310479  4.121626  7.936262   \n",
              "\n",
              "           2046       2047  \n",
              "0     -4.711063   3.348825  \n",
              "1     -2.124194   0.760990  \n",
              "2    -13.045435  -9.407323  \n",
              "3     -1.404039  -5.962843  \n",
              "4     -4.584017  -8.543740  \n",
              "...         ...        ...  \n",
              "1986   1.889714   5.510882  \n",
              "1987   5.084838   9.212272  \n",
              "1988 -17.034277 -18.413988  \n",
              "1989   9.739085   6.725371  \n",
              "1990   9.020326   7.103728  \n",
              "\n",
              "[1991 rows x 2048 columns]"
            ],
            "text/html": [
              "\n",
              "  <div id=\"df-2dcf12c0-28d5-4352-9071-c7ec76cbefaf\">\n",
              "    <div class=\"colab-df-container\">\n",
              "      <div>\n",
              "<style scoped>\n",
              "    .dataframe tbody tr th:only-of-type {\n",
              "        vertical-align: middle;\n",
              "    }\n",
              "\n",
              "    .dataframe tbody tr th {\n",
              "        vertical-align: top;\n",
              "    }\n",
              "\n",
              "    .dataframe thead th {\n",
              "        text-align: right;\n",
              "    }\n",
              "</style>\n",
              "<table border=\"1\" class=\"dataframe\">\n",
              "  <thead>\n",
              "    <tr style=\"text-align: right;\">\n",
              "      <th></th>\n",
              "      <th>0</th>\n",
              "      <th>1</th>\n",
              "      <th>2</th>\n",
              "      <th>3</th>\n",
              "      <th>4</th>\n",
              "      <th>5</th>\n",
              "      <th>6</th>\n",
              "      <th>7</th>\n",
              "      <th>8</th>\n",
              "      <th>9</th>\n",
              "      <th>...</th>\n",
              "      <th>2038</th>\n",
              "      <th>2039</th>\n",
              "      <th>2040</th>\n",
              "      <th>2041</th>\n",
              "      <th>2042</th>\n",
              "      <th>2043</th>\n",
              "      <th>2044</th>\n",
              "      <th>2045</th>\n",
              "      <th>2046</th>\n",
              "      <th>2047</th>\n",
              "    </tr>\n",
              "  </thead>\n",
              "  <tbody>\n",
              "    <tr>\n",
              "      <th>0</th>\n",
              "      <td>4.984598</td>\n",
              "      <td>6.712967</td>\n",
              "      <td>5.996637</td>\n",
              "      <td>3.021013</td>\n",
              "      <td>-3.989819</td>\n",
              "      <td>-6.804139</td>\n",
              "      <td>-6.800004</td>\n",
              "      <td>-4.303416</td>\n",
              "      <td>1.564538</td>\n",
              "      <td>6.509620</td>\n",
              "      <td>...</td>\n",
              "      <td>8.891878</td>\n",
              "      <td>12.922327</td>\n",
              "      <td>11.177475</td>\n",
              "      <td>6.497373</td>\n",
              "      <td>-1.923966</td>\n",
              "      <td>-9.699038</td>\n",
              "      <td>-9.703032</td>\n",
              "      <td>-9.859069</td>\n",
              "      <td>-4.711063</td>\n",
              "      <td>3.348825</td>\n",
              "    </tr>\n",
              "    <tr>\n",
              "      <th>1</th>\n",
              "      <td>-1.701641</td>\n",
              "      <td>6.921174</td>\n",
              "      <td>11.563729</td>\n",
              "      <td>10.354230</td>\n",
              "      <td>9.081828</td>\n",
              "      <td>-0.534325</td>\n",
              "      <td>-9.345466</td>\n",
              "      <td>-13.031431</td>\n",
              "      <td>-14.521824</td>\n",
              "      <td>-7.602461</td>\n",
              "      <td>...</td>\n",
              "      <td>-1.074893</td>\n",
              "      <td>1.845379</td>\n",
              "      <td>4.435579</td>\n",
              "      <td>3.280266</td>\n",
              "      <td>1.283910</td>\n",
              "      <td>-1.005672</td>\n",
              "      <td>-5.723236</td>\n",
              "      <td>-4.719713</td>\n",
              "      <td>-2.124194</td>\n",
              "      <td>0.760990</td>\n",
              "    </tr>\n",
              "    <tr>\n",
              "      <th>2</th>\n",
              "      <td>-15.571519</td>\n",
              "      <td>-13.445913</td>\n",
              "      <td>-4.338899</td>\n",
              "      <td>7.017733</td>\n",
              "      <td>11.106980</td>\n",
              "      <td>15.448277</td>\n",
              "      <td>11.849205</td>\n",
              "      <td>2.001206</td>\n",
              "      <td>-3.458882</td>\n",
              "      <td>-12.031251</td>\n",
              "      <td>...</td>\n",
              "      <td>-4.025341</td>\n",
              "      <td>4.177705</td>\n",
              "      <td>8.456237</td>\n",
              "      <td>12.664760</td>\n",
              "      <td>10.204368</td>\n",
              "      <td>2.580993</td>\n",
              "      <td>-1.401413</td>\n",
              "      <td>-9.826475</td>\n",
              "      <td>-13.045435</td>\n",
              "      <td>-9.407323</td>\n",
              "    </tr>\n",
              "    <tr>\n",
              "      <th>3</th>\n",
              "      <td>1.091852</td>\n",
              "      <td>-6.503527</td>\n",
              "      <td>-11.588715</td>\n",
              "      <td>-11.210070</td>\n",
              "      <td>-4.717007</td>\n",
              "      <td>1.305937</td>\n",
              "      <td>7.482914</td>\n",
              "      <td>10.717397</td>\n",
              "      <td>5.902429</td>\n",
              "      <td>1.924329</td>\n",
              "      <td>...</td>\n",
              "      <td>-9.989213</td>\n",
              "      <td>-10.101300</td>\n",
              "      <td>-5.181172</td>\n",
              "      <td>-0.166993</td>\n",
              "      <td>5.686601</td>\n",
              "      <td>9.303350</td>\n",
              "      <td>5.480586</td>\n",
              "      <td>3.046245</td>\n",
              "      <td>-1.404039</td>\n",
              "      <td>-5.962843</td>\n",
              "    </tr>\n",
              "    <tr>\n",
              "      <th>4</th>\n",
              "      <td>4.283194</td>\n",
              "      <td>-0.231102</td>\n",
              "      <td>-4.323882</td>\n",
              "      <td>-6.702392</td>\n",
              "      <td>-7.238913</td>\n",
              "      <td>-2.214071</td>\n",
              "      <td>3.102516</td>\n",
              "      <td>6.619846</td>\n",
              "      <td>10.589575</td>\n",
              "      <td>6.369769</td>\n",
              "      <td>...</td>\n",
              "      <td>-6.031956</td>\n",
              "      <td>-4.866324</td>\n",
              "      <td>-3.546931</td>\n",
              "      <td>2.537196</td>\n",
              "      <td>6.676125</td>\n",
              "      <td>7.251146</td>\n",
              "      <td>8.637443</td>\n",
              "      <td>2.280012</td>\n",
              "      <td>-4.584017</td>\n",
              "      <td>-8.543740</td>\n",
              "    </tr>\n",
              "    <tr>\n",
              "      <th>...</th>\n",
              "      <td>...</td>\n",
              "      <td>...</td>\n",
              "      <td>...</td>\n",
              "      <td>...</td>\n",
              "      <td>...</td>\n",
              "      <td>...</td>\n",
              "      <td>...</td>\n",
              "      <td>...</td>\n",
              "      <td>...</td>\n",
              "      <td>...</td>\n",
              "      <td>...</td>\n",
              "      <td>...</td>\n",
              "      <td>...</td>\n",
              "      <td>...</td>\n",
              "      <td>...</td>\n",
              "      <td>...</td>\n",
              "      <td>...</td>\n",
              "      <td>...</td>\n",
              "      <td>...</td>\n",
              "      <td>...</td>\n",
              "      <td>...</td>\n",
              "    </tr>\n",
              "    <tr>\n",
              "      <th>1986</th>\n",
              "      <td>7.304843</td>\n",
              "      <td>-0.141466</td>\n",
              "      <td>-7.666196</td>\n",
              "      <td>-12.659387</td>\n",
              "      <td>-7.890593</td>\n",
              "      <td>-1.015714</td>\n",
              "      <td>6.343467</td>\n",
              "      <td>11.638786</td>\n",
              "      <td>8.302423</td>\n",
              "      <td>2.053478</td>\n",
              "      <td>...</td>\n",
              "      <td>4.033905</td>\n",
              "      <td>7.882780</td>\n",
              "      <td>5.542016</td>\n",
              "      <td>1.707991</td>\n",
              "      <td>-2.906991</td>\n",
              "      <td>-6.695507</td>\n",
              "      <td>-5.332912</td>\n",
              "      <td>-2.196741</td>\n",
              "      <td>1.889714</td>\n",
              "      <td>5.510882</td>\n",
              "    </tr>\n",
              "    <tr>\n",
              "      <th>1987</th>\n",
              "      <td>3.568855</td>\n",
              "      <td>-0.529471</td>\n",
              "      <td>-4.284801</td>\n",
              "      <td>-6.448101</td>\n",
              "      <td>-4.483644</td>\n",
              "      <td>-0.051496</td>\n",
              "      <td>4.239501</td>\n",
              "      <td>6.948605</td>\n",
              "      <td>5.459022</td>\n",
              "      <td>0.755353</td>\n",
              "      <td>...</td>\n",
              "      <td>5.180394</td>\n",
              "      <td>8.260356</td>\n",
              "      <td>5.806404</td>\n",
              "      <td>0.267060</td>\n",
              "      <td>-5.199099</td>\n",
              "      <td>-8.781297</td>\n",
              "      <td>-6.731890</td>\n",
              "      <td>-0.894869</td>\n",
              "      <td>5.084838</td>\n",
              "      <td>9.212272</td>\n",
              "    </tr>\n",
              "    <tr>\n",
              "      <th>1988</th>\n",
              "      <td>-4.844222</td>\n",
              "      <td>4.359343</td>\n",
              "      <td>12.061645</td>\n",
              "      <td>15.631334</td>\n",
              "      <td>6.067407</td>\n",
              "      <td>-3.108472</td>\n",
              "      <td>-11.219570</td>\n",
              "      <td>-15.491996</td>\n",
              "      <td>-7.231373</td>\n",
              "      <td>1.829609</td>\n",
              "      <td>...</td>\n",
              "      <td>-17.935527</td>\n",
              "      <td>-17.634364</td>\n",
              "      <td>0.747162</td>\n",
              "      <td>11.034649</td>\n",
              "      <td>17.558350</td>\n",
              "      <td>18.097981</td>\n",
              "      <td>0.682274</td>\n",
              "      <td>-9.852503</td>\n",
              "      <td>-17.034277</td>\n",
              "      <td>-18.413988</td>\n",
              "    </tr>\n",
              "    <tr>\n",
              "      <th>1989</th>\n",
              "      <td>0.590832</td>\n",
              "      <td>-3.749559</td>\n",
              "      <td>-6.944873</td>\n",
              "      <td>-7.846441</td>\n",
              "      <td>-1.012687</td>\n",
              "      <td>2.973452</td>\n",
              "      <td>6.088486</td>\n",
              "      <td>7.215169</td>\n",
              "      <td>1.311102</td>\n",
              "      <td>-2.279992</td>\n",
              "      <td>...</td>\n",
              "      <td>10.687968</td>\n",
              "      <td>6.593103</td>\n",
              "      <td>-6.909194</td>\n",
              "      <td>-10.293526</td>\n",
              "      <td>-10.257620</td>\n",
              "      <td>-6.722782</td>\n",
              "      <td>6.031628</td>\n",
              "      <td>9.443809</td>\n",
              "      <td>9.739085</td>\n",
              "      <td>6.725371</td>\n",
              "    </tr>\n",
              "    <tr>\n",
              "      <th>1990</th>\n",
              "      <td>-0.343969</td>\n",
              "      <td>-5.108003</td>\n",
              "      <td>-8.010697</td>\n",
              "      <td>-8.130255</td>\n",
              "      <td>-0.375915</td>\n",
              "      <td>4.893285</td>\n",
              "      <td>8.371633</td>\n",
              "      <td>8.934606</td>\n",
              "      <td>1.196057</td>\n",
              "      <td>-4.548245</td>\n",
              "      <td>...</td>\n",
              "      <td>7.483674</td>\n",
              "      <td>5.584667</td>\n",
              "      <td>-4.128642</td>\n",
              "      <td>-7.470440</td>\n",
              "      <td>-8.253206</td>\n",
              "      <td>-6.310479</td>\n",
              "      <td>4.121626</td>\n",
              "      <td>7.936262</td>\n",
              "      <td>9.020326</td>\n",
              "      <td>7.103728</td>\n",
              "    </tr>\n",
              "  </tbody>\n",
              "</table>\n",
              "<p>1991 rows × 2048 columns</p>\n",
              "</div>\n",
              "      <button class=\"colab-df-convert\" onclick=\"convertToInteractive('df-2dcf12c0-28d5-4352-9071-c7ec76cbefaf')\"\n",
              "              title=\"Convert this dataframe to an interactive table.\"\n",
              "              style=\"display:none;\">\n",
              "        \n",
              "  <svg xmlns=\"http://www.w3.org/2000/svg\" height=\"24px\"viewBox=\"0 0 24 24\"\n",
              "       width=\"24px\">\n",
              "    <path d=\"M0 0h24v24H0V0z\" fill=\"none\"/>\n",
              "    <path d=\"M18.56 5.44l.94 2.06.94-2.06 2.06-.94-2.06-.94-.94-2.06-.94 2.06-2.06.94zm-11 1L8.5 8.5l.94-2.06 2.06-.94-2.06-.94L8.5 2.5l-.94 2.06-2.06.94zm10 10l.94 2.06.94-2.06 2.06-.94-2.06-.94-.94-2.06-.94 2.06-2.06.94z\"/><path d=\"M17.41 7.96l-1.37-1.37c-.4-.4-.92-.59-1.43-.59-.52 0-1.04.2-1.43.59L10.3 9.45l-7.72 7.72c-.78.78-.78 2.05 0 2.83L4 21.41c.39.39.9.59 1.41.59.51 0 1.02-.2 1.41-.59l7.78-7.78 2.81-2.81c.8-.78.8-2.07 0-2.86zM5.41 20L4 18.59l7.72-7.72 1.47 1.35L5.41 20z\"/>\n",
              "  </svg>\n",
              "      </button>\n",
              "      \n",
              "  <style>\n",
              "    .colab-df-container {\n",
              "      display:flex;\n",
              "      flex-wrap:wrap;\n",
              "      gap: 12px;\n",
              "    }\n",
              "\n",
              "    .colab-df-convert {\n",
              "      background-color: #E8F0FE;\n",
              "      border: none;\n",
              "      border-radius: 50%;\n",
              "      cursor: pointer;\n",
              "      display: none;\n",
              "      fill: #1967D2;\n",
              "      height: 32px;\n",
              "      padding: 0 0 0 0;\n",
              "      width: 32px;\n",
              "    }\n",
              "\n",
              "    .colab-df-convert:hover {\n",
              "      background-color: #E2EBFA;\n",
              "      box-shadow: 0px 1px 2px rgba(60, 64, 67, 0.3), 0px 1px 3px 1px rgba(60, 64, 67, 0.15);\n",
              "      fill: #174EA6;\n",
              "    }\n",
              "\n",
              "    [theme=dark] .colab-df-convert {\n",
              "      background-color: #3B4455;\n",
              "      fill: #D2E3FC;\n",
              "    }\n",
              "\n",
              "    [theme=dark] .colab-df-convert:hover {\n",
              "      background-color: #434B5C;\n",
              "      box-shadow: 0px 1px 3px 1px rgba(0, 0, 0, 0.15);\n",
              "      filter: drop-shadow(0px 1px 2px rgba(0, 0, 0, 0.3));\n",
              "      fill: #FFFFFF;\n",
              "    }\n",
              "  </style>\n",
              "\n",
              "      <script>\n",
              "        const buttonEl =\n",
              "          document.querySelector('#df-2dcf12c0-28d5-4352-9071-c7ec76cbefaf button.colab-df-convert');\n",
              "        buttonEl.style.display =\n",
              "          google.colab.kernel.accessAllowed ? 'block' : 'none';\n",
              "\n",
              "        async function convertToInteractive(key) {\n",
              "          const element = document.querySelector('#df-2dcf12c0-28d5-4352-9071-c7ec76cbefaf');\n",
              "          const dataTable =\n",
              "            await google.colab.kernel.invokeFunction('convertToInteractive',\n",
              "                                                     [key], {});\n",
              "          if (!dataTable) return;\n",
              "\n",
              "          const docLinkHtml = 'Like what you see? Visit the ' +\n",
              "            '<a target=\"_blank\" href=https://colab.research.google.com/notebooks/data_table.ipynb>data table notebook</a>'\n",
              "            + ' to learn more about interactive tables.';\n",
              "          element.innerHTML = '';\n",
              "          dataTable['output_type'] = 'display_data';\n",
              "          await google.colab.output.renderOutput(dataTable, element);\n",
              "          const docLink = document.createElement('div');\n",
              "          docLink.innerHTML = docLinkHtml;\n",
              "          element.appendChild(docLink);\n",
              "        }\n",
              "      </script>\n",
              "    </div>\n",
              "  </div>\n",
              "  "
            ]
          },
          "metadata": {},
          "execution_count": 21
        }
      ]
    },
    {
      "cell_type": "code",
      "source": [
        "from sklearn.preprocessing import StandardScaler, MinMaxScaler"
      ],
      "metadata": {
        "id": "RvnumGyvJJL-"
      },
      "execution_count": null,
      "outputs": []
    },
    {
      "cell_type": "code",
      "source": [
        "scaler = MinMaxScaler(feature_range=(-1, 1))\n",
        "minmax_df = scaler.fit_transform(BS6_1650)"
      ],
      "metadata": {
        "id": "R50nsrW4w9YK"
      },
      "execution_count": null,
      "outputs": []
    },
    {
      "cell_type": "code",
      "source": [
        "minmax_df = pd.DataFrame(minmax_df)\n",
        "minmax_df"
      ],
      "metadata": {
        "colab": {
          "base_uri": "https://localhost:8080/"
        },
        "id": "fjN6DBVExtLC",
        "outputId": "7de7acc9-7e94-4461-ee84-39c9776f6a89"
      },
      "execution_count": null,
      "outputs": [
        {
          "output_type": "execute_result",
          "data": {
            "text/plain": [
              "          0         1         2         3         4         5         6     \\\n",
              "0     0.285416  0.402601  0.337543  0.158854 -0.220322 -0.401434 -0.366258   \n",
              "1    -0.082604  0.414211  0.646694  0.568244  0.504117 -0.054141 -0.504752   \n",
              "2    -0.846022 -0.721430 -0.236409  0.381978  0.616352  0.831157  0.648415   \n",
              "3     0.071154 -0.334332 -0.639006 -0.635622 -0.260623  0.047794  0.410852   \n",
              "4     0.246810  0.015410 -0.235576 -0.383973 -0.400388 -0.147184  0.172522   \n",
              "...        ...       ...       ...       ...       ...       ...       ...   \n",
              "1986  0.413125  0.020408 -0.421181 -0.716533 -0.436505 -0.080805  0.348857   \n",
              "1987  0.207491 -0.001227 -0.233405 -0.369776 -0.247690 -0.027396  0.234384   \n",
              "1988 -0.255576  0.271367  0.674344  0.862848  0.337056 -0.196726 -0.606719   \n",
              "1989  0.043577 -0.180775 -0.381124 -0.447841 -0.055327  0.140160  0.334984   \n",
              "1990 -0.007876 -0.256520 -0.440312 -0.463686 -0.020037  0.246502  0.459206   \n",
              "\n",
              "          7         8         9     ...      2038      2039      2040  \\\n",
              "0    -0.224840  0.081260  0.371472  ...  0.421324  0.621841  0.536998   \n",
              "1    -0.707382 -0.813665 -0.401027  ... -0.054821  0.091904  0.214313   \n",
              "2     0.123721 -0.198205 -0.643460  ... -0.195773  0.203485  0.406752   \n",
              "3     0.605609  0.322588  0.120472  ... -0.480687 -0.479643 -0.245970   \n",
              "4     0.379070  0.583346  0.363816  ... -0.291636 -0.229194 -0.167751   \n",
              "...        ...       ...       ...  ...       ...       ...       ...   \n",
              "1986  0.656549  0.456106  0.127542  ...  0.189243  0.380742  0.267270   \n",
              "1987  0.397245  0.297920  0.056482  ...  0.244015  0.398805  0.279924   \n",
              "1988 -0.843418 -0.408078  0.115287  ... -0.860309 -0.840036  0.037776   \n",
              "1989  0.411983  0.067161 -0.109674  ...  0.507130  0.319042 -0.328677   \n",
              "1990  0.507045  0.060761 -0.233838  ...  0.354050  0.270796 -0.195593   \n",
              "\n",
              "          2041      2042      2043      2044      2045      2046      2047  \n",
              "0     0.312274 -0.093550 -0.459885 -0.468721 -0.466675 -0.214357  0.161103  \n",
              "1     0.158850  0.060474 -0.046091 -0.278837 -0.222890 -0.090326  0.038076  \n",
              "2     0.606397  0.488784  0.124630 -0.072633 -0.465128 -0.613960 -0.445328  \n",
              "3    -0.005551  0.271866  0.444607  0.255722  0.145487 -0.055797 -0.281577  \n",
              "4     0.123412  0.319378  0.346924  0.406342  0.109141 -0.208266 -0.404273  \n",
              "...        ...       ...       ...       ...       ...       ...       ...  \n",
              "1986  0.083868 -0.140750 -0.316920 -0.260213 -0.103213  0.102127  0.263888  \n",
              "1987  0.015149 -0.250804 -0.416202 -0.326962 -0.041459  0.255321  0.439853  \n",
              "1988  0.528657  0.841881  0.863221  0.026784 -0.466363 -0.805211 -0.873508  \n",
              "1989 -0.488486 -0.493686 -0.318219  0.282013  0.448955  0.478476  0.321625  \n",
              "1990 -0.353853 -0.397445 -0.298593  0.190883  0.377445  0.444014  0.339612  \n",
              "\n",
              "[1991 rows x 2048 columns]"
            ],
            "text/html": [
              "\n",
              "  <div id=\"df-dadcbc3c-d791-4887-a768-6b4e790d6283\">\n",
              "    <div class=\"colab-df-container\">\n",
              "      <div>\n",
              "<style scoped>\n",
              "    .dataframe tbody tr th:only-of-type {\n",
              "        vertical-align: middle;\n",
              "    }\n",
              "\n",
              "    .dataframe tbody tr th {\n",
              "        vertical-align: top;\n",
              "    }\n",
              "\n",
              "    .dataframe thead th {\n",
              "        text-align: right;\n",
              "    }\n",
              "</style>\n",
              "<table border=\"1\" class=\"dataframe\">\n",
              "  <thead>\n",
              "    <tr style=\"text-align: right;\">\n",
              "      <th></th>\n",
              "      <th>0</th>\n",
              "      <th>1</th>\n",
              "      <th>2</th>\n",
              "      <th>3</th>\n",
              "      <th>4</th>\n",
              "      <th>5</th>\n",
              "      <th>6</th>\n",
              "      <th>7</th>\n",
              "      <th>8</th>\n",
              "      <th>9</th>\n",
              "      <th>...</th>\n",
              "      <th>2038</th>\n",
              "      <th>2039</th>\n",
              "      <th>2040</th>\n",
              "      <th>2041</th>\n",
              "      <th>2042</th>\n",
              "      <th>2043</th>\n",
              "      <th>2044</th>\n",
              "      <th>2045</th>\n",
              "      <th>2046</th>\n",
              "      <th>2047</th>\n",
              "    </tr>\n",
              "  </thead>\n",
              "  <tbody>\n",
              "    <tr>\n",
              "      <th>0</th>\n",
              "      <td>0.285416</td>\n",
              "      <td>0.402601</td>\n",
              "      <td>0.337543</td>\n",
              "      <td>0.158854</td>\n",
              "      <td>-0.220322</td>\n",
              "      <td>-0.401434</td>\n",
              "      <td>-0.366258</td>\n",
              "      <td>-0.224840</td>\n",
              "      <td>0.081260</td>\n",
              "      <td>0.371472</td>\n",
              "      <td>...</td>\n",
              "      <td>0.421324</td>\n",
              "      <td>0.621841</td>\n",
              "      <td>0.536998</td>\n",
              "      <td>0.312274</td>\n",
              "      <td>-0.093550</td>\n",
              "      <td>-0.459885</td>\n",
              "      <td>-0.468721</td>\n",
              "      <td>-0.466675</td>\n",
              "      <td>-0.214357</td>\n",
              "      <td>0.161103</td>\n",
              "    </tr>\n",
              "    <tr>\n",
              "      <th>1</th>\n",
              "      <td>-0.082604</td>\n",
              "      <td>0.414211</td>\n",
              "      <td>0.646694</td>\n",
              "      <td>0.568244</td>\n",
              "      <td>0.504117</td>\n",
              "      <td>-0.054141</td>\n",
              "      <td>-0.504752</td>\n",
              "      <td>-0.707382</td>\n",
              "      <td>-0.813665</td>\n",
              "      <td>-0.401027</td>\n",
              "      <td>...</td>\n",
              "      <td>-0.054821</td>\n",
              "      <td>0.091904</td>\n",
              "      <td>0.214313</td>\n",
              "      <td>0.158850</td>\n",
              "      <td>0.060474</td>\n",
              "      <td>-0.046091</td>\n",
              "      <td>-0.278837</td>\n",
              "      <td>-0.222890</td>\n",
              "      <td>-0.090326</td>\n",
              "      <td>0.038076</td>\n",
              "    </tr>\n",
              "    <tr>\n",
              "      <th>2</th>\n",
              "      <td>-0.846022</td>\n",
              "      <td>-0.721430</td>\n",
              "      <td>-0.236409</td>\n",
              "      <td>0.381978</td>\n",
              "      <td>0.616352</td>\n",
              "      <td>0.831157</td>\n",
              "      <td>0.648415</td>\n",
              "      <td>0.123721</td>\n",
              "      <td>-0.198205</td>\n",
              "      <td>-0.643460</td>\n",
              "      <td>...</td>\n",
              "      <td>-0.195773</td>\n",
              "      <td>0.203485</td>\n",
              "      <td>0.406752</td>\n",
              "      <td>0.606397</td>\n",
              "      <td>0.488784</td>\n",
              "      <td>0.124630</td>\n",
              "      <td>-0.072633</td>\n",
              "      <td>-0.465128</td>\n",
              "      <td>-0.613960</td>\n",
              "      <td>-0.445328</td>\n",
              "    </tr>\n",
              "    <tr>\n",
              "      <th>3</th>\n",
              "      <td>0.071154</td>\n",
              "      <td>-0.334332</td>\n",
              "      <td>-0.639006</td>\n",
              "      <td>-0.635622</td>\n",
              "      <td>-0.260623</td>\n",
              "      <td>0.047794</td>\n",
              "      <td>0.410852</td>\n",
              "      <td>0.605609</td>\n",
              "      <td>0.322588</td>\n",
              "      <td>0.120472</td>\n",
              "      <td>...</td>\n",
              "      <td>-0.480687</td>\n",
              "      <td>-0.479643</td>\n",
              "      <td>-0.245970</td>\n",
              "      <td>-0.005551</td>\n",
              "      <td>0.271866</td>\n",
              "      <td>0.444607</td>\n",
              "      <td>0.255722</td>\n",
              "      <td>0.145487</td>\n",
              "      <td>-0.055797</td>\n",
              "      <td>-0.281577</td>\n",
              "    </tr>\n",
              "    <tr>\n",
              "      <th>4</th>\n",
              "      <td>0.246810</td>\n",
              "      <td>0.015410</td>\n",
              "      <td>-0.235576</td>\n",
              "      <td>-0.383973</td>\n",
              "      <td>-0.400388</td>\n",
              "      <td>-0.147184</td>\n",
              "      <td>0.172522</td>\n",
              "      <td>0.379070</td>\n",
              "      <td>0.583346</td>\n",
              "      <td>0.363816</td>\n",
              "      <td>...</td>\n",
              "      <td>-0.291636</td>\n",
              "      <td>-0.229194</td>\n",
              "      <td>-0.167751</td>\n",
              "      <td>0.123412</td>\n",
              "      <td>0.319378</td>\n",
              "      <td>0.346924</td>\n",
              "      <td>0.406342</td>\n",
              "      <td>0.109141</td>\n",
              "      <td>-0.208266</td>\n",
              "      <td>-0.404273</td>\n",
              "    </tr>\n",
              "    <tr>\n",
              "      <th>...</th>\n",
              "      <td>...</td>\n",
              "      <td>...</td>\n",
              "      <td>...</td>\n",
              "      <td>...</td>\n",
              "      <td>...</td>\n",
              "      <td>...</td>\n",
              "      <td>...</td>\n",
              "      <td>...</td>\n",
              "      <td>...</td>\n",
              "      <td>...</td>\n",
              "      <td>...</td>\n",
              "      <td>...</td>\n",
              "      <td>...</td>\n",
              "      <td>...</td>\n",
              "      <td>...</td>\n",
              "      <td>...</td>\n",
              "      <td>...</td>\n",
              "      <td>...</td>\n",
              "      <td>...</td>\n",
              "      <td>...</td>\n",
              "      <td>...</td>\n",
              "    </tr>\n",
              "    <tr>\n",
              "      <th>1986</th>\n",
              "      <td>0.413125</td>\n",
              "      <td>0.020408</td>\n",
              "      <td>-0.421181</td>\n",
              "      <td>-0.716533</td>\n",
              "      <td>-0.436505</td>\n",
              "      <td>-0.080805</td>\n",
              "      <td>0.348857</td>\n",
              "      <td>0.656549</td>\n",
              "      <td>0.456106</td>\n",
              "      <td>0.127542</td>\n",
              "      <td>...</td>\n",
              "      <td>0.189243</td>\n",
              "      <td>0.380742</td>\n",
              "      <td>0.267270</td>\n",
              "      <td>0.083868</td>\n",
              "      <td>-0.140750</td>\n",
              "      <td>-0.316920</td>\n",
              "      <td>-0.260213</td>\n",
              "      <td>-0.103213</td>\n",
              "      <td>0.102127</td>\n",
              "      <td>0.263888</td>\n",
              "    </tr>\n",
              "    <tr>\n",
              "      <th>1987</th>\n",
              "      <td>0.207491</td>\n",
              "      <td>-0.001227</td>\n",
              "      <td>-0.233405</td>\n",
              "      <td>-0.369776</td>\n",
              "      <td>-0.247690</td>\n",
              "      <td>-0.027396</td>\n",
              "      <td>0.234384</td>\n",
              "      <td>0.397245</td>\n",
              "      <td>0.297920</td>\n",
              "      <td>0.056482</td>\n",
              "      <td>...</td>\n",
              "      <td>0.244015</td>\n",
              "      <td>0.398805</td>\n",
              "      <td>0.279924</td>\n",
              "      <td>0.015149</td>\n",
              "      <td>-0.250804</td>\n",
              "      <td>-0.416202</td>\n",
              "      <td>-0.326962</td>\n",
              "      <td>-0.041459</td>\n",
              "      <td>0.255321</td>\n",
              "      <td>0.439853</td>\n",
              "    </tr>\n",
              "    <tr>\n",
              "      <th>1988</th>\n",
              "      <td>-0.255576</td>\n",
              "      <td>0.271367</td>\n",
              "      <td>0.674344</td>\n",
              "      <td>0.862848</td>\n",
              "      <td>0.337056</td>\n",
              "      <td>-0.196726</td>\n",
              "      <td>-0.606719</td>\n",
              "      <td>-0.843418</td>\n",
              "      <td>-0.408078</td>\n",
              "      <td>0.115287</td>\n",
              "      <td>...</td>\n",
              "      <td>-0.860309</td>\n",
              "      <td>-0.840036</td>\n",
              "      <td>0.037776</td>\n",
              "      <td>0.528657</td>\n",
              "      <td>0.841881</td>\n",
              "      <td>0.863221</td>\n",
              "      <td>0.026784</td>\n",
              "      <td>-0.466363</td>\n",
              "      <td>-0.805211</td>\n",
              "      <td>-0.873508</td>\n",
              "    </tr>\n",
              "    <tr>\n",
              "      <th>1989</th>\n",
              "      <td>0.043577</td>\n",
              "      <td>-0.180775</td>\n",
              "      <td>-0.381124</td>\n",
              "      <td>-0.447841</td>\n",
              "      <td>-0.055327</td>\n",
              "      <td>0.140160</td>\n",
              "      <td>0.334984</td>\n",
              "      <td>0.411983</td>\n",
              "      <td>0.067161</td>\n",
              "      <td>-0.109674</td>\n",
              "      <td>...</td>\n",
              "      <td>0.507130</td>\n",
              "      <td>0.319042</td>\n",
              "      <td>-0.328677</td>\n",
              "      <td>-0.488486</td>\n",
              "      <td>-0.493686</td>\n",
              "      <td>-0.318219</td>\n",
              "      <td>0.282013</td>\n",
              "      <td>0.448955</td>\n",
              "      <td>0.478476</td>\n",
              "      <td>0.321625</td>\n",
              "    </tr>\n",
              "    <tr>\n",
              "      <th>1990</th>\n",
              "      <td>-0.007876</td>\n",
              "      <td>-0.256520</td>\n",
              "      <td>-0.440312</td>\n",
              "      <td>-0.463686</td>\n",
              "      <td>-0.020037</td>\n",
              "      <td>0.246502</td>\n",
              "      <td>0.459206</td>\n",
              "      <td>0.507045</td>\n",
              "      <td>0.060761</td>\n",
              "      <td>-0.233838</td>\n",
              "      <td>...</td>\n",
              "      <td>0.354050</td>\n",
              "      <td>0.270796</td>\n",
              "      <td>-0.195593</td>\n",
              "      <td>-0.353853</td>\n",
              "      <td>-0.397445</td>\n",
              "      <td>-0.298593</td>\n",
              "      <td>0.190883</td>\n",
              "      <td>0.377445</td>\n",
              "      <td>0.444014</td>\n",
              "      <td>0.339612</td>\n",
              "    </tr>\n",
              "  </tbody>\n",
              "</table>\n",
              "<p>1991 rows × 2048 columns</p>\n",
              "</div>\n",
              "      <button class=\"colab-df-convert\" onclick=\"convertToInteractive('df-dadcbc3c-d791-4887-a768-6b4e790d6283')\"\n",
              "              title=\"Convert this dataframe to an interactive table.\"\n",
              "              style=\"display:none;\">\n",
              "        \n",
              "  <svg xmlns=\"http://www.w3.org/2000/svg\" height=\"24px\"viewBox=\"0 0 24 24\"\n",
              "       width=\"24px\">\n",
              "    <path d=\"M0 0h24v24H0V0z\" fill=\"none\"/>\n",
              "    <path d=\"M18.56 5.44l.94 2.06.94-2.06 2.06-.94-2.06-.94-.94-2.06-.94 2.06-2.06.94zm-11 1L8.5 8.5l.94-2.06 2.06-.94-2.06-.94L8.5 2.5l-.94 2.06-2.06.94zm10 10l.94 2.06.94-2.06 2.06-.94-2.06-.94-.94-2.06-.94 2.06-2.06.94z\"/><path d=\"M17.41 7.96l-1.37-1.37c-.4-.4-.92-.59-1.43-.59-.52 0-1.04.2-1.43.59L10.3 9.45l-7.72 7.72c-.78.78-.78 2.05 0 2.83L4 21.41c.39.39.9.59 1.41.59.51 0 1.02-.2 1.41-.59l7.78-7.78 2.81-2.81c.8-.78.8-2.07 0-2.86zM5.41 20L4 18.59l7.72-7.72 1.47 1.35L5.41 20z\"/>\n",
              "  </svg>\n",
              "      </button>\n",
              "      \n",
              "  <style>\n",
              "    .colab-df-container {\n",
              "      display:flex;\n",
              "      flex-wrap:wrap;\n",
              "      gap: 12px;\n",
              "    }\n",
              "\n",
              "    .colab-df-convert {\n",
              "      background-color: #E8F0FE;\n",
              "      border: none;\n",
              "      border-radius: 50%;\n",
              "      cursor: pointer;\n",
              "      display: none;\n",
              "      fill: #1967D2;\n",
              "      height: 32px;\n",
              "      padding: 0 0 0 0;\n",
              "      width: 32px;\n",
              "    }\n",
              "\n",
              "    .colab-df-convert:hover {\n",
              "      background-color: #E2EBFA;\n",
              "      box-shadow: 0px 1px 2px rgba(60, 64, 67, 0.3), 0px 1px 3px 1px rgba(60, 64, 67, 0.15);\n",
              "      fill: #174EA6;\n",
              "    }\n",
              "\n",
              "    [theme=dark] .colab-df-convert {\n",
              "      background-color: #3B4455;\n",
              "      fill: #D2E3FC;\n",
              "    }\n",
              "\n",
              "    [theme=dark] .colab-df-convert:hover {\n",
              "      background-color: #434B5C;\n",
              "      box-shadow: 0px 1px 3px 1px rgba(0, 0, 0, 0.15);\n",
              "      filter: drop-shadow(0px 1px 2px rgba(0, 0, 0, 0.3));\n",
              "      fill: #FFFFFF;\n",
              "    }\n",
              "  </style>\n",
              "\n",
              "      <script>\n",
              "        const buttonEl =\n",
              "          document.querySelector('#df-dadcbc3c-d791-4887-a768-6b4e790d6283 button.colab-df-convert');\n",
              "        buttonEl.style.display =\n",
              "          google.colab.kernel.accessAllowed ? 'block' : 'none';\n",
              "\n",
              "        async function convertToInteractive(key) {\n",
              "          const element = document.querySelector('#df-dadcbc3c-d791-4887-a768-6b4e790d6283');\n",
              "          const dataTable =\n",
              "            await google.colab.kernel.invokeFunction('convertToInteractive',\n",
              "                                                     [key], {});\n",
              "          if (!dataTable) return;\n",
              "\n",
              "          const docLinkHtml = 'Like what you see? Visit the ' +\n",
              "            '<a target=\"_blank\" href=https://colab.research.google.com/notebooks/data_table.ipynb>data table notebook</a>'\n",
              "            + ' to learn more about interactive tables.';\n",
              "          element.innerHTML = '';\n",
              "          dataTable['output_type'] = 'display_data';\n",
              "          await google.colab.output.renderOutput(dataTable, element);\n",
              "          const docLink = document.createElement('div');\n",
              "          docLink.innerHTML = docLinkHtml;\n",
              "          element.appendChild(docLink);\n",
              "        }\n",
              "      </script>\n",
              "    </div>\n",
              "  </div>\n",
              "  "
            ]
          },
          "metadata": {},
          "execution_count": 24
        }
      ]
    },
    {
      "cell_type": "code",
      "source": [
        "# scaler = MinMaxScaler()\n",
        "# scaler.fit(BS6_1650)"
      ],
      "metadata": {
        "id": "eOg8dM-dJEM5"
      },
      "execution_count": null,
      "outputs": []
    },
    {
      "cell_type": "code",
      "source": [
        "# BS6_1650_scaled_features = scaler.transform(BS6_1650)"
      ],
      "metadata": {
        "id": "tVgT1ILtMhOi"
      },
      "execution_count": null,
      "outputs": []
    },
    {
      "cell_type": "code",
      "source": [
        "# BS6_1650_scaled_features=pd.DataFrame(BS6_1650_scaled_features)\n",
        "# BS6_1650_scaled_features"
      ],
      "metadata": {
        "id": "yuJFe5tyMqdB"
      },
      "execution_count": null,
      "outputs": []
    },
    {
      "cell_type": "code",
      "source": [
        "minmax_df.to_csv('/content/drive/MyDrive/BS6_1100_scaled_features.csv')"
      ],
      "metadata": {
        "id": "R_vVNBTkiVD4"
      },
      "execution_count": null,
      "outputs": []
    },
    {
      "cell_type": "code",
      "source": [
        "''' BS6_3842_3852 = (905, 2, 128, 4) '''\n",
        "''' BS6_3853_3860 = (1083, 2, 128, 4) '''\n",
        "''' BS6_1650_1660 = (1086, 2, 128, 4) '''\n",
        "''' BS6_1100_1110 = (1086, 2, 128, 4) '''"
      ],
      "metadata": {
        "colab": {
          "base_uri": "https://localhost:8080/",
          "height": 36
        },
        "id": "8q8QaZROVM4z",
        "outputId": "40a972be-d16f-4153-f9d0-5f37fce0781b"
      },
      "execution_count": null,
      "outputs": [
        {
          "output_type": "execute_result",
          "data": {
            "text/plain": [
              "' BS6_1100_1110 = (1086, 2, 128, 4) '"
            ],
            "application/vnd.google.colaboratory.intrinsic+json": {
              "type": "string"
            }
          },
          "metadata": {},
          "execution_count": 29
        }
      ]
    }
  ]
}